{
 "cells": [
  {
   "cell_type": "code",
   "execution_count": 3,
   "metadata": {},
   "outputs": [
    {
     "name": "stdout",
     "output_type": "stream",
     "text": [
      "Rekomendasi Asupan Air = 1,4 liter\n"
     ]
    }
   ],
   "source": [
    "usia = int(input(\"masukan usia : \"))\n",
    "gender = input(\"pilih gender (Laki-laki/Perempuan) : \")\n",
    "\n",
    "if (usia <= 2):\n",
    "   print(\"Masih diberi Asi\")\n",
    "elif (usia >=3) and (usia <= 18):\n",
    "   if (gender == \"Laki-laki\"):\n",
    "       print(\"Rekomendasi Asupan Air = 1,6 liter\")\n",
    "   elif (usia >=3) and (usia <= 18):\n",
    "      if (gender == \"Perempuan\"):\n",
    "       print(\"Rekomendasi Asupan Air = 1,4 liter\")\n",
    "elif (usia >=18) and (usia <= 64):\n",
    "   if (gender == \"Laki-laki\"):\n",
    "       print(\"Rekomendasi Asupan Air = 2.5 liter\")\n",
    "   elif (usia >=18) and (usia <= 64):\n",
    "      if (gender == \"Perempuan\"):\n",
    "       print(\"Rekomendasi Asupan Air = 2,0 liter\")\n",
    "elif (usia >=65):\n",
    "   if (gender == \"Laki-laki\"):\n",
    "       print(\"Rekomendasi Asupan Air = 2.0 liter\")\n",
    "   elif (usia >=65):\n",
    "      if (gender == \"Perempuan\"):\n",
    "       print(\"Rekomendasi Asupan Air = 2,0 liter\")\n",
    "else :\n",
    "   print(\"gender salah\")\n",
    "   "
   ]
  }
 ],
 "metadata": {
  "kernelspec": {
   "display_name": "Python 3",
   "language": "python",
   "name": "python3"
  },
  "language_info": {
   "codemirror_mode": {
    "name": "ipython",
    "version": 3
   },
   "file_extension": ".py",
   "mimetype": "text/x-python",
   "name": "python",
   "nbconvert_exporter": "python",
   "pygments_lexer": "ipython3",
   "version": "3.12.6"
  }
 },
 "nbformat": 4,
 "nbformat_minor": 2
}
